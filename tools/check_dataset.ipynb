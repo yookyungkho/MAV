{
 "cells": [
  {
   "cell_type": "code",
   "execution_count": 1,
   "metadata": {},
   "outputs": [],
   "source": [
    "import os\n",
    "dir = \"/new_SFLM/result\"\n",
    "dataset = \"sst-5\"\n",
    "folds = os.listdir(dir)\n",
    "dataset_folds = [f for f in folds if f.startswith(dataset)]\n",
    "path = os.path.join(dir, dataset_folds[0],f\"test_results_\" + dataset + \".txt\")\n",
    "with open(path, \"r\") as f:\n",
    "    lines = f.readlines()"
   ]
  },
  {
   "cell_type": "code",
   "execution_count": 11,
   "metadata": {},
   "outputs": [],
   "source": [
    "import numpy as np \n",
    "def get_acc(basic_path, dataset_name) : \n",
    "    seeds = [13, 21, 42, 87, 100]\n",
    "    accs = {}\n",
    "    k = 16 if not dataset_name == 'trec' else 12\n",
    "    dir = \"/new_SFLM/result\"\n",
    "    folds = os.listdir(dir)\n",
    "    for seed in seeds :\n",
    "        dataset_fold = basic_path + \"-\" + str(k) + \"-4-\" + str(seed)\n",
    "        path = os.path.join(dir, dataset_fold,f\"test_results_\" + dataset_name + \".txt\")\n",
    "        with open(path, \"r\") as f:\n",
    "            accs[seed] = round(float(f.readlines()[1][11:18]), 4)\n",
    "    return accs\n",
    "\n",
    "def get_accs_per_setting(dataset) :\n",
    "    settings = [\"\", \"full_\", \"small_\"]\n",
    "    accs_per_settings = {}\n",
    "    for setting in settings :\n",
    "        accs_per_settings[setting] = get_acc(setting + dataset, dataset)\n",
    "    avgs = {}\n",
    "    stds = {}\n",
    "    for key, setting in accs_per_settings.items() :\n",
    "        avgs[key] = round(sum(setting.values()) / len(setting.values()), 4)\n",
    "        stds[key] = round(np.std(list(setting.values())), 4)\n",
    "    accs_per_settings[\"avg\"] = avgs\n",
    "    accs_per_settings[\"std\"] = stds\n",
    "    return accs_per_settings"
   ]
  },
  {
   "cell_type": "code",
   "execution_count": 40,
   "metadata": {},
   "outputs": [
    {
     "data": {
      "text/plain": [
       "{'': {13: 0.4683, 21: 0.4552, 42: 0.448, 87: 0.4973, 100: 0.4398},\n",
       " 'full_': {13: 0.5104, 21: 0.4896, 42: 0.4964, 87: 0.5131, 100: 0.5045},\n",
       " 'small_': {13: 0.4828, 21: 0.476, 42: 0.4724, 87: 0.4919, 100: 0.4493},\n",
       " 'avg': {'': 0.4617, 'full_': 0.5028, 'small_': 0.4745},\n",
       " 'std': {'': 0.0201, 'full_': 0.0087, 'small_': 0.0142}}"
      ]
     },
     "execution_count": 40,
     "metadata": {},
     "output_type": "execute_result"
    }
   ],
   "source": [
    "get_accs_per_setting(\"sst-5\")"
   ]
  },
  {
   "cell_type": "code",
   "execution_count": 41,
   "metadata": {},
   "outputs": [
    {
     "data": {
      "text/plain": [
       "{'': {13: 0.9845, 21: 0.9819, 42: 0.9832, 87: 0.9836, 100: 0.9848},\n",
       " 'full_': {13: 0.9869, 21: 0.9871, 42: 0.9838, 87: 0.9875, 100: 0.9825},\n",
       " 'small_': {13: 0.9787, 21: 0.9787, 42: 0.9825, 87: 0.9804, 100: 0.9819},\n",
       " 'avg': {'': 0.9836, 'full_': 0.9856, 'small_': 0.9804},\n",
       " 'std': {'': 0.001, 'full_': 0.002, 'small_': 0.0016}}"
      ]
     },
     "execution_count": 41,
     "metadata": {},
     "output_type": "execute_result"
    }
   ],
   "source": [
    "get_accs_per_setting(\"dbpedia\")"
   ]
  },
  {
   "cell_type": "code",
   "execution_count": 42,
   "metadata": {},
   "outputs": [
    {
     "data": {
      "text/plain": [
       "{'': {13: 0.796, 21: 0.84, 42: 0.72, 87: 0.78, 100: 0.83},\n",
       " 'full_': {13: 0.886, 21: 0.94, 42: 0.9, 87: 0.948, 100: 0.928},\n",
       " 'small_': {13: 0.724, 21: 0.836, 42: 0.71, 87: 0.818, 100: 0.768},\n",
       " 'avg': {'': 0.7932, 'full_': 0.9204, 'small_': 0.7712},\n",
       " 'std': {'': 0.0426, 'full_': 0.0237, 'small_': 0.0497}}"
      ]
     },
     "execution_count": 42,
     "metadata": {},
     "output_type": "execute_result"
    }
   ],
   "source": [
    "get_accs_per_setting(\"trec\")"
   ]
  },
  {
   "cell_type": "code",
   "execution_count": 43,
   "metadata": {},
   "outputs": [
    {
     "data": {
      "text/plain": [
       "{'': {13: 0.8855, 21: 0.8885, 42: 0.866, 87: 0.8666, 100: 0.8801},\n",
       " 'full_': {13: 0.8917, 21: 0.8868, 42: 0.8883, 87: 0.8867, 100: 0.8845},\n",
       " 'small_': {13: 0.8754, 21: 0.8686, 42: 0.8478, 87: 0.8609, 100: 0.8595},\n",
       " 'avg': {'': 0.8773, 'full_': 0.8876, 'small_': 0.8624},\n",
       " 'std': {'': 0.0094, 'full_': 0.0024, 'small_': 0.0093}}"
      ]
     },
     "execution_count": 43,
     "metadata": {},
     "output_type": "execute_result"
    }
   ],
   "source": [
    "get_accs_per_setting(\"ag_news\")"
   ]
  },
  {
   "cell_type": "code",
   "execution_count": 54,
   "metadata": {},
   "outputs": [
    {
     "data": {
      "text/plain": [
       "{'': {13: 0.6837, 21: 0.6744, 42: 0.6691, 87: 0.6717, 100: 0.6738},\n",
       " 'full_': {13: 0.695, 21: 0.6938, 42: 0.6962, 87: 0.6965, 100: 0.6836},\n",
       " 'small_': {13: 0.6713, 21: 0.6562, 42: 0.6558, 87: 0.6522, 100: 0.6383},\n",
       " 'avg': {'': 0.6745, 'full_': 0.693, 'small_': 0.6548},\n",
       " 'std': {'': 0.0049, 'full_': 0.0048, 'small_': 0.0105}}"
      ]
     },
     "execution_count": 54,
     "metadata": {},
     "output_type": "execute_result"
    }
   ],
   "source": [
    "get_accs_per_setting(\"yahoo_answers\")"
   ]
  },
  {
   "cell_type": "code",
   "execution_count": 4,
   "metadata": {},
   "outputs": [
    {
     "data": {
      "text/plain": [
       "{'': {13: 0.4191, 21: 0.4087, 42: 0.3936, 87: 0.37, 100: 0.4258},\n",
       " 'full_': {13: 0.4708, 21: 0.4659, 42: 0.4677, 87: 0.4547, 100: 0.4762},\n",
       " 'small_': {13: 0.4111, 21: 0.4176, 42: 0.4121, 87: 0.3975, 100: 0.411},\n",
       " 'avg': {'': 0.4034, 'full_': 0.4671, 'small_': 0.4099},\n",
       " 'std': {'': 0.0199, 'full_': 0.0071, 'small_': 0.0066}}"
      ]
     },
     "execution_count": 4,
     "metadata": {},
     "output_type": "execute_result"
    }
   ],
   "source": [
    "get_accs_per_setting(\"yelp5\")"
   ]
  },
  {
   "cell_type": "code",
   "execution_count": 9,
   "metadata": {},
   "outputs": [],
   "source": [
    "import pandas as pd\n",
    "def num_data(dataset) :\n",
    "    data = [\"train\", \"test\", \"dev\", \"unlabeled\"]\n",
    "    dir = \"/new_SFLM/data/few-shot/\"\n",
    "    dir = os.path.join(dir, dataset)\n",
    "    dir = os.path.join(dir, os.listdir(dir)[0])\n",
    "    data_len = {d : pd.read_csv(os.path.join(dir, d + \".tsv\"), sep = \"\\t\").shape[0] for d in data}\n",
    "    return data_len"
   ]
  },
  {
   "cell_type": "code",
   "execution_count": 52,
   "metadata": {},
   "outputs": [
    {
     "data": {
      "text/plain": [
       "{'train': 79, 'test': 2209, 'dev': 79, 'unlabeled': 319}"
      ]
     },
     "execution_count": 52,
     "metadata": {},
     "output_type": "execute_result"
    }
   ],
   "source": [
    "num_data(\"sst-5\")"
   ]
  },
  {
   "cell_type": "code",
   "execution_count": 53,
   "metadata": {},
   "outputs": [
    {
     "data": {
      "text/plain": [
       "{'train': 159, 'test': 59999, 'dev': 159, 'unlabeled': 639}"
      ]
     },
     "execution_count": 53,
     "metadata": {},
     "output_type": "execute_result"
    }
   ],
   "source": [
    "num_data(\"yahoo_answers\")"
   ]
  },
  {
   "cell_type": "code",
   "execution_count": 55,
   "metadata": {},
   "outputs": [
    {
     "data": {
      "text/plain": [
       "{'train': 63, 'test': 7599, 'dev': 63, 'unlabeled': 255}"
      ]
     },
     "execution_count": 55,
     "metadata": {},
     "output_type": "execute_result"
    }
   ],
   "source": [
    "num_data(\"ag_news\")"
   ]
  },
  {
   "cell_type": "code",
   "execution_count": 56,
   "metadata": {},
   "outputs": [
    {
     "data": {
      "text/plain": [
       "{'train': 71, 'test': 499, 'dev': 71, 'unlabeled': 287}"
      ]
     },
     "execution_count": 56,
     "metadata": {},
     "output_type": "execute_result"
    }
   ],
   "source": [
    "num_data(\"trec\")"
   ]
  },
  {
   "cell_type": "code",
   "execution_count": 57,
   "metadata": {},
   "outputs": [
    {
     "data": {
      "text/plain": [
       "{'train': 223, 'test': 69999, 'dev': 223, 'unlabeled': 895}"
      ]
     },
     "execution_count": 57,
     "metadata": {},
     "output_type": "execute_result"
    }
   ],
   "source": [
    "num_data(\"dbpedia\")"
   ]
  },
  {
   "cell_type": "code",
   "execution_count": 6,
   "metadata": {},
   "outputs": [
    {
     "data": {
      "text/plain": [
       "{'train': 79, 'test': 49999, 'dev': 79, 'unlabeled': 319}"
      ]
     },
     "execution_count": 6,
     "metadata": {},
     "output_type": "execute_result"
    }
   ],
   "source": [
    "num_data(\"yelp5\")"
   ]
  },
  {
   "cell_type": "code",
   "execution_count": 10,
   "metadata": {},
   "outputs": [
    {
     "data": {
      "text/plain": [
       "{'train': 32, 'test': 872, 'dev': 32, 'unlabeled': 128}"
      ]
     },
     "execution_count": 10,
     "metadata": {},
     "output_type": "execute_result"
    }
   ],
   "source": [
    "num_data(\"SST-2\")"
   ]
  }
 ],
 "metadata": {
  "kernelspec": {
   "display_name": "Python 3.7.7 ('base')",
   "language": "python",
   "name": "python3"
  },
  "language_info": {
   "codemirror_mode": {
    "name": "ipython",
    "version": 3
   },
   "file_extension": ".py",
   "mimetype": "text/x-python",
   "name": "python",
   "nbconvert_exporter": "python",
   "pygments_lexer": "ipython3",
   "version": "3.7.7"
  },
  "orig_nbformat": 4,
  "vscode": {
   "interpreter": {
    "hash": "d4d1e4263499bec80672ea0156c357c1ee493ec2b1c70f0acce89fc37c4a6abe"
   }
  }
 },
 "nbformat": 4,
 "nbformat_minor": 2
}
